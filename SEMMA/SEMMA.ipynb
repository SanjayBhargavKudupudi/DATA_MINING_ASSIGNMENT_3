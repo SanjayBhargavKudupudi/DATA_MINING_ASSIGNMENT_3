{
  "nbformat": 4,
  "nbformat_minor": 0,
  "metadata": {
    "colab": {
      "provenance": [],
      "authorship_tag": "ABX9TyOGfNQGBAXHacEsT1pNUv1E",
      "include_colab_link": true
    },
    "kernelspec": {
      "name": "python3",
      "display_name": "Python 3"
    },
    "language_info": {
      "name": "python"
    }
  },
  "cells": [
    {
      "cell_type": "markdown",
      "metadata": {
        "id": "view-in-github",
        "colab_type": "text"
      },
      "source": [
        "<a href=\"https://colab.research.google.com/github/SanjayBhargavKudupudi/DATA_MINING_ASSIGNMENT_3/blob/main/SEMMA/SEMMA.ipynb\" target=\"_parent\"><img src=\"https://colab.research.google.com/assets/colab-badge.svg\" alt=\"Open In Colab\"/></a>"
      ]
    },
    {
      "cell_type": "code",
      "execution_count": null,
      "metadata": {
        "colab": {
          "base_uri": "https://localhost:8080/"
        },
        "id": "yDMHiZ2936th",
        "outputId": "2473fd8b-e260-4e80-e8ca-289f3fd176b0"
      },
      "outputs": [
        {
          "output_type": "stream",
          "name": "stdout",
          "text": [
            "Mounted at /content/drive\n"
          ]
        }
      ],
      "source": [
        "from google.colab import drive\n",
        "drive.mount('/content/drive')\n"
      ]
    },
    {
      "cell_type": "code",
      "source": [
        "import pandas as pd\n",
        "path = \"/content/drive/MyDrive/DATA_MINING_DATASETS/fixed_values_ds.csv\"\n",
        "data = pd.read_csv(path)"
      ],
      "metadata": {
        "id": "_-D9zmk84OZU"
      },
      "execution_count": null,
      "outputs": []
    },
    {
      "cell_type": "code",
      "source": [
        "# Descriptive statistics for the dataset\n",
        "desc_stats = data.describe()\n",
        "\n",
        "# Distribution of the target variable\n",
        "target_distribution = data['result'].value_counts(normalize=True)\n",
        "\n",
        "desc_stats, target_distribution\n"
      ],
      "metadata": {
        "colab": {
          "base_uri": "https://localhost:8080/"
        },
        "id": "MP_Vef4G4mz1",
        "outputId": "72771783-37ac-4a2d-9927-7234f464221e"
      },
      "execution_count": null,
      "outputs": [
        {
          "output_type": "execute_result",
          "data": {
            "text/plain": [
              "(       having_ip_address  length_of_url  shortening_services  \\\n",
              " count       14093.000000   14093.000000         14093.000000   \n",
              " mean           -0.994891      -0.199674            -0.823033   \n",
              " std             0.100958       0.874794             0.568014   \n",
              " min            -1.000000      -1.000000            -1.000000   \n",
              " 25%            -1.000000      -1.000000            -1.000000   \n",
              " 50%            -1.000000      -1.000000            -1.000000   \n",
              " 75%            -1.000000       1.000000            -1.000000   \n",
              " max             1.000000       1.000000             1.000000   \n",
              " \n",
              "        having_at_symbol  double-slash_redirection  prefix and suffix  \\\n",
              " count      14093.000000              14093.000000       14093.000000   \n",
              " mean          -0.983538                 -0.994040          -0.612148   \n",
              " std            0.180708                  0.109024           0.790771   \n",
              " min           -1.000000                 -1.000000          -1.000000   \n",
              " 25%           -1.000000                 -1.000000          -1.000000   \n",
              " 50%           -1.000000                 -1.000000          -1.000000   \n",
              " 75%           -1.000000                 -1.000000          -1.000000   \n",
              " max            1.000000                  1.000000           1.000000   \n",
              " \n",
              "         sub_domains     ssl_state  domain_registered      favicons  ...  \\\n",
              " count  14093.000000  14093.000000       14093.000000  14093.000000  ...   \n",
              " mean       0.344568      0.160009           0.783155      0.743135  ...   \n",
              " std        0.688640      0.987151           0.621849      0.669165  ...   \n",
              " min       -1.000000     -1.000000          -1.000000     -1.000000  ...   \n",
              " 25%        0.000000     -1.000000           1.000000      1.000000  ...   \n",
              " 50%        0.000000      1.000000           1.000000      1.000000  ...   \n",
              " 75%        1.000000      1.000000           1.000000      1.000000  ...   \n",
              " max        1.000000      1.000000           1.000000      1.000000  ...   \n",
              " \n",
              "        on_mouse_over   right_click  popup_windows    domain_age    dns_record  \\\n",
              " count   14093.000000  14093.000000   14093.000000  14093.000000  14093.000000   \n",
              " mean        0.152345      0.151210       0.178599      0.439296      0.793515   \n",
              " std         0.988362      0.988537       0.983957      0.898374      0.608573   \n",
              " min        -1.000000     -1.000000      -1.000000     -1.000000     -1.000000   \n",
              " 25%        -1.000000     -1.000000      -1.000000     -1.000000      1.000000   \n",
              " 50%         1.000000      1.000000       1.000000      1.000000      1.000000   \n",
              " 75%         1.000000      1.000000       1.000000      1.000000      1.000000   \n",
              " max         1.000000      1.000000       1.000000      1.000000      1.000000   \n",
              " \n",
              "         web_traffic  links_pointing  statistical_report  image_text_keyword  \\\n",
              " count  14093.000000    14093.000000        14093.000000        14093.000000   \n",
              " mean       0.123891        0.595757           -0.531257            0.718016   \n",
              " std        0.954012        0.774085            0.847241            0.696051   \n",
              " min       -1.000000       -1.000000           -1.000000           -1.000000   \n",
              " 25%       -1.000000        1.000000           -1.000000            1.000000   \n",
              " 50%        1.000000        1.000000           -1.000000            1.000000   \n",
              " 75%        1.000000        1.000000           -1.000000            1.000000   \n",
              " max        1.000000        1.000000            1.000000            1.000000   \n",
              " \n",
              "              result  \n",
              " count  14093.000000  \n",
              " mean       0.000355  \n",
              " std        1.000035  \n",
              " min       -1.000000  \n",
              " 25%       -1.000000  \n",
              " 50%        1.000000  \n",
              " 75%        1.000000  \n",
              " max        1.000000  \n",
              " \n",
              " [8 rows x 29 columns],\n",
              "  1    0.500177\n",
              " -1    0.499823\n",
              " Name: result, dtype: float64)"
            ]
          },
          "metadata": {},
          "execution_count": 3
        }
      ]
    },
    {
      "cell_type": "code",
      "source": [
        "# Check for missing values in the dataset\n",
        "missing_values = data.isnull().sum()\n",
        "\n",
        "missing_values[missing_values > 0]\n"
      ],
      "metadata": {
        "colab": {
          "base_uri": "https://localhost:8080/"
        },
        "id": "BVwlcSxz4vQr",
        "outputId": "3d08855f-886e-40ba-90be-074400678c1e"
      },
      "execution_count": null,
      "outputs": [
        {
          "output_type": "execute_result",
          "data": {
            "text/plain": [
              "Series([], dtype: int64)"
            ]
          },
          "metadata": {},
          "execution_count": 4
        }
      ]
    },
    {
      "cell_type": "code",
      "source": [
        "from sklearn.model_selection import train_test_split\n",
        "from sklearn.linear_model import LogisticRegression\n",
        "from sklearn.metrics import accuracy_score, classification_report\n",
        "\n",
        "# Split the data into training and test sets\n",
        "X = data.drop('result', axis=1)\n",
        "y = data['result']\n",
        "\n",
        "X_train, X_test, y_train, y_test = train_test_split(X, y, test_size=0.2, random_state=42)\n",
        "\n",
        "# Train a logistic regression model\n",
        "lr_model = LogisticRegression(max_iter=10000)\n",
        "lr_model.fit(X_train, y_train)\n",
        "\n",
        "# Predict on the test set\n",
        "y_pred = lr_model.predict(X_test)\n",
        "\n",
        "# Evaluate the model performance\n",
        "accuracy = accuracy_score(y_test, y_pred)\n",
        "classification_rep = classification_report(y_test, y_pred)\n",
        "\n",
        "accuracy, classification_rep\n"
      ],
      "metadata": {
        "colab": {
          "base_uri": "https://localhost:8080/"
        },
        "id": "Sg5Typvx4zun",
        "outputId": "4c2e30b2-9391-4cb2-9fe3-6f160e86612a"
      },
      "execution_count": null,
      "outputs": [
        {
          "output_type": "execute_result",
          "data": {
            "text/plain": [
              "(0.8421426037601987,\n",
              " '              precision    recall  f1-score   support\\n\\n          -1       0.84      0.85      0.84      1407\\n           1       0.85      0.83      0.84      1412\\n\\n    accuracy                           0.84      2819\\n   macro avg       0.84      0.84      0.84      2819\\nweighted avg       0.84      0.84      0.84      2819\\n')"
            ]
          },
          "metadata": {},
          "execution_count": 5
        }
      ]
    },
    {
      "cell_type": "code",
      "source": [],
      "metadata": {
        "id": "kFtQguic45ce"
      },
      "execution_count": null,
      "outputs": []
    }
  ]
}